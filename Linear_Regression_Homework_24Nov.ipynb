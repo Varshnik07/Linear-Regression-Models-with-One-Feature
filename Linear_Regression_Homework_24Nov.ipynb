{
 "cells": [
  {
   "cell_type": "code",
   "execution_count": 1,
   "id": "032c5544",
   "metadata": {},
   "outputs": [
    {
     "name": "stdout",
     "output_type": "stream",
     "text": [
      "Mean Squared Error: 0.09837718916221985\n"
     ]
    },
    {
     "name": "stderr",
     "output_type": "stream",
     "text": [
      "C:\\Users\\HAI\\anaconda3\\Lib\\site-packages\\sklearn\\preprocessing\\_encoders.py:972: FutureWarning: `sparse` was renamed to `sparse_output` in version 1.2 and will be removed in 1.4. `sparse_output` is ignored unless you leave `sparse` to its default value.\n",
      "  warnings.warn(\n"
     ]
    }
   ],
   "source": [
    "# Import necessary libraries\n",
    "import pandas as pd\n",
    "from sklearn.compose import ColumnTransformer\n",
    "from sklearn.pipeline import Pipeline\n",
    "from sklearn.linear_model import LinearRegression\n",
    "from sklearn.metrics import mean_squared_error\n",
    "from sklearn.preprocessing import StandardScaler, OneHotEncoder, LabelEncoder\n",
    "from sklearn.base import BaseEstimator, TransformerMixin\n",
    "\n",
    "# Load data from CSV file\n",
    "file_path = r\"C:\\Users\\HAI\\Downloads\\Telegram Desktop\\loan_data_nov2023.csv\"  # Replace with the actual path to your CSV file\n",
    "df = pd.read_csv(file_path)\n",
    "\n",
    "# Separate features and target\n",
    "X = df.drop('default', axis=1)\n",
    "y = df['default']\n",
    "\n",
    "# Define LabelEncoderTransformer\n",
    "class LabelEncoderTransformer(BaseEstimator, TransformerMixin):\n",
    "    def __init__(self, columns=None):\n",
    "        self.columns = columns\n",
    "        self.label_encoders = {}\n",
    "\n",
    "    def fit(self, X, y=None):\n",
    "        for column in self.columns:\n",
    "            le = LabelEncoder()\n",
    "            le.fit(X[column])\n",
    "            self.label_encoders[column] = le\n",
    "        return self\n",
    "\n",
    "    def transform(self, X):\n",
    "        X = X.copy()\n",
    "        for column, le in self.label_encoders.items():\n",
    "            X[column] = le.transform(X[column])\n",
    "        return X\n",
    "\n",
    "# Define preprocessing pipeline\n",
    "label_encoder_columns = ['grade', 'ownership']\n",
    "one_hot_columns = ['grade', 'ownership']\n",
    "preprocessor_label = ColumnTransformer(\n",
    "    transformers=[\n",
    "        ('label', LabelEncoderTransformer(columns=label_encoder_columns), label_encoder_columns),\n",
    "        ('onehot', OneHotEncoder(drop='first', sparse=False), one_hot_columns),\n",
    "        ('scaler', StandardScaler(), ['amount', 'interest', 'years', 'income', 'age'])\n",
    "    ],\n",
    "    remainder='passthrough'\n",
    ")\n",
    "\n",
    "# Define the model pipeline\n",
    "model_label = Pipeline([\n",
    "    ('preprocessor', preprocessor_label),\n",
    "    ('regressor', LinearRegression())\n",
    "])\n",
    "\n",
    "# Split the data into training and testing sets\n",
    "from sklearn.model_selection import train_test_split\n",
    "X_train, X_test, y_train, y_test = train_test_split(X, y, test_size=0.2, random_state=42)\n",
    "\n",
    "# Train the model\n",
    "model_label.fit(X_train, y_train)\n",
    "\n",
    "# Make predictions\n",
    "y_pred_label = model_label.predict(X_test)\n",
    "\n",
    "# Evaluate the model\n",
    "mse_label = mean_squared_error(y_test, y_pred_label)\n",
    "print(f'Mean Squared Error: {mse_label}')\n"
   ]
  },
  {
   "cell_type": "code",
   "execution_count": 2,
   "id": "67e3a140",
   "metadata": {},
   "outputs": [
    {
     "name": "stdout",
     "output_type": "stream",
     "text": [
      "Mean Squared Error: 0.09837260012503019\n"
     ]
    },
    {
     "name": "stderr",
     "output_type": "stream",
     "text": [
      "C:\\Users\\HAI\\anaconda3\\Lib\\site-packages\\sklearn\\preprocessing\\_encoders.py:972: FutureWarning: `sparse` was renamed to `sparse_output` in version 1.2 and will be removed in 1.4. `sparse_output` is ignored unless you leave `sparse` to its default value.\n",
      "  warnings.warn(\n"
     ]
    }
   ],
   "source": [
    "# Import necessary libraries\n",
    "import pandas as pd\n",
    "from sklearn.compose import ColumnTransformer\n",
    "from sklearn.pipeline import Pipeline\n",
    "from sklearn.linear_model import LinearRegression\n",
    "from sklearn.metrics import mean_squared_error\n",
    "from sklearn.preprocessing import StandardScaler, OneHotEncoder\n",
    "from sklearn.model_selection import train_test_split\n",
    "\n",
    "# Load data from CSV file\n",
    "file_path = r\"C:\\Users\\HAI\\Downloads\\Telegram Desktop\\loan_data_nov2023.csv\"  # Replace with the actual path to your CSV file\n",
    "df = pd.read_csv(file_path)\n",
    "\n",
    "# Separate features and target\n",
    "X = df.drop('default', axis=1)\n",
    "y = df['default']\n",
    "\n",
    "# Define preprocessing pipeline with OneHotEncoder\n",
    "one_hot_columns = ['grade', 'ownership']\n",
    "preprocessor_onehot = ColumnTransformer(\n",
    "    transformers=[\n",
    "        ('onehot', OneHotEncoder(drop='first', sparse=False), one_hot_columns),\n",
    "        ('scaler', StandardScaler(), ['amount', 'interest', 'years', 'income', 'age'])\n",
    "    ],\n",
    "    remainder='passthrough'\n",
    ")\n",
    "\n",
    "# Define the model pipeline\n",
    "model_onehot = Pipeline([\n",
    "    ('preprocessor', preprocessor_onehot),\n",
    "    ('regressor', LinearRegression())\n",
    "])\n",
    "\n",
    "# Split the data into training and testing sets\n",
    "X_train, X_test, y_train, y_test = train_test_split(X, y, test_size=0.2, random_state=42)\n",
    "\n",
    "# Train the model\n",
    "model_onehot.fit(X_train, y_train)\n",
    "\n",
    "# Make predictions\n",
    "y_pred_onehot = model_onehot.predict(X_test)\n",
    "\n",
    "# Evaluate the model\n",
    "mse_onehot = mean_squared_error(y_test, y_pred_onehot)\n",
    "print(f'Mean Squared Error: {mse_onehot}')\n"
   ]
  },
  {
   "cell_type": "code",
   "execution_count": null,
   "id": "dd83d646",
   "metadata": {},
   "outputs": [],
   "source": []
  }
 ],
 "metadata": {
  "kernelspec": {
   "display_name": "Python 3 (ipykernel)",
   "language": "python",
   "name": "python3"
  },
  "language_info": {
   "codemirror_mode": {
    "name": "ipython",
    "version": 3
   },
   "file_extension": ".py",
   "mimetype": "text/x-python",
   "name": "python",
   "nbconvert_exporter": "python",
   "pygments_lexer": "ipython3",
   "version": "3.11.4"
  }
 },
 "nbformat": 4,
 "nbformat_minor": 5
}
